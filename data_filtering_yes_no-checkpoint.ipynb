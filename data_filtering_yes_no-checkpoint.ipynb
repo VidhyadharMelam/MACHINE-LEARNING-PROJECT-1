{
 "cells": [
  {
   "cell_type": "markdown",
   "metadata": {},
   "source": [
    "# Data Filtering \n",
    "#### Keep 'Yes' and 'No' values & drop others ('Possibly', 'Maybe', 'Dont know') from current mental disorder column"
   ]
  },
  {
   "cell_type": "code",
   "execution_count": 11,
   "metadata": {},
   "outputs": [],
   "source": [
    "import pandas as pd"
   ]
  },
  {
   "cell_type": "code",
   "execution_count": 12,
   "metadata": {},
   "outputs": [],
   "source": [
    "# import dataset\n",
    "df = pd.read_csv(\"mental_health_data_2016-2021.csv\")"
   ]
  },
  {
   "cell_type": "code",
   "execution_count": 13,
   "metadata": {},
   "outputs": [
    {
     "data": {
      "text/plain": [
       "array(['No', 'Yes', 'Maybe', 'Possibly', \"Don't Know\"], dtype=object)"
      ]
     },
     "execution_count": 13,
     "metadata": {},
     "output_type": "execute_result"
    }
   ],
   "source": [
    "df['Do you *currently* have a mental health disorder?'].unique()"
   ]
  },
  {
   "cell_type": "code",
   "execution_count": 14,
   "metadata": {},
   "outputs": [
    {
     "data": {
      "text/plain": [
       "Yes           1331\n",
       "No            1077\n",
       "Possibly       372\n",
       "Maybe          327\n",
       "Don't Know     162\n",
       "Name: Do you *currently* have a mental health disorder?, dtype: int64"
      ]
     },
     "execution_count": 14,
     "metadata": {},
     "output_type": "execute_result"
    }
   ],
   "source": [
    "df['Do you *currently* have a mental health disorder?'].value_counts()"
   ]
  },
  {
   "cell_type": "code",
   "execution_count": 17,
   "metadata": {},
   "outputs": [
    {
     "name": "stderr",
     "output_type": "stream",
     "text": [
      "<ipython-input-17-ca3d0df18012>:1: FutureWarning: The frame.append method is deprecated and will be removed from pandas in a future version. Use pandas.concat instead.\n",
      "  df_yes_no_answers = df[df['Do you *currently* have a mental health disorder?'] == 'No'].append(df[df['Do you *currently* have a mental health disorder?'] == 'Yes'])\n"
     ]
    }
   ],
   "source": [
    "df_yes_no_answers = df[df['Do you *currently* have a mental health disorder?'] == 'No'].append(df[df['Do you *currently* have a mental health disorder?'] == 'Yes']) \n",
    "                    "
   ]
  },
  {
   "cell_type": "code",
   "execution_count": 18,
   "metadata": {},
   "outputs": [
    {
     "data": {
      "text/html": [
       "<div>\n",
       "<style scoped>\n",
       "    .dataframe tbody tr th:only-of-type {\n",
       "        vertical-align: middle;\n",
       "    }\n",
       "\n",
       "    .dataframe tbody tr th {\n",
       "        vertical-align: top;\n",
       "    }\n",
       "\n",
       "    .dataframe thead th {\n",
       "        text-align: right;\n",
       "    }\n",
       "</style>\n",
       "<table border=\"1\" class=\"dataframe\">\n",
       "  <thead>\n",
       "    <tr style=\"text-align: right;\">\n",
       "      <th></th>\n",
       "      <th>Unnamed: 0</th>\n",
       "      <th>What is your age?</th>\n",
       "      <th>What is your gender?</th>\n",
       "      <th>Do you *currently* have a mental health disorder?</th>\n",
       "      <th>Have you ever been *diagnosed* with a mental health disorder?</th>\n",
       "      <th>Have you ever sought treatment for a mental health disorder from a mental health professional?</th>\n",
       "      <th>Do you have a family history of mental illness?</th>\n",
       "      <th>Have you had a mental health disorder in the past?</th>\n",
       "    </tr>\n",
       "  </thead>\n",
       "  <tbody>\n",
       "    <tr>\n",
       "      <th>0</th>\n",
       "      <td>0</td>\n",
       "      <td>39.0</td>\n",
       "      <td>Male</td>\n",
       "      <td>No</td>\n",
       "      <td>Yes</td>\n",
       "      <td>0</td>\n",
       "      <td>No</td>\n",
       "      <td>Yes</td>\n",
       "    </tr>\n",
       "    <tr>\n",
       "      <th>2</th>\n",
       "      <td>2</td>\n",
       "      <td>38.0</td>\n",
       "      <td>Male</td>\n",
       "      <td>No</td>\n",
       "      <td>No</td>\n",
       "      <td>1</td>\n",
       "      <td>No</td>\n",
       "      <td>Maybe</td>\n",
       "    </tr>\n",
       "    <tr>\n",
       "      <th>6</th>\n",
       "      <td>6</td>\n",
       "      <td>30.0</td>\n",
       "      <td>M</td>\n",
       "      <td>No</td>\n",
       "      <td>No</td>\n",
       "      <td>0</td>\n",
       "      <td>No</td>\n",
       "      <td>No</td>\n",
       "    </tr>\n",
       "    <tr>\n",
       "      <th>17</th>\n",
       "      <td>17</td>\n",
       "      <td>34.0</td>\n",
       "      <td>Male</td>\n",
       "      <td>No</td>\n",
       "      <td>No</td>\n",
       "      <td>0</td>\n",
       "      <td>No</td>\n",
       "      <td>No</td>\n",
       "    </tr>\n",
       "    <tr>\n",
       "      <th>20</th>\n",
       "      <td>20</td>\n",
       "      <td>26.0</td>\n",
       "      <td>Male</td>\n",
       "      <td>No</td>\n",
       "      <td>No</td>\n",
       "      <td>0</td>\n",
       "      <td>Yes</td>\n",
       "      <td>Maybe</td>\n",
       "    </tr>\n",
       "    <tr>\n",
       "      <th>...</th>\n",
       "      <td>...</td>\n",
       "      <td>...</td>\n",
       "      <td>...</td>\n",
       "      <td>...</td>\n",
       "      <td>...</td>\n",
       "      <td>...</td>\n",
       "      <td>...</td>\n",
       "      <td>...</td>\n",
       "    </tr>\n",
       "    <tr>\n",
       "      <th>3254</th>\n",
       "      <td>116</td>\n",
       "      <td>45.0</td>\n",
       "      <td>Male</td>\n",
       "      <td>Yes</td>\n",
       "      <td>Yes</td>\n",
       "      <td>0</td>\n",
       "      <td>Yes</td>\n",
       "      <td>Yes</td>\n",
       "    </tr>\n",
       "    <tr>\n",
       "      <th>3255</th>\n",
       "      <td>117</td>\n",
       "      <td>30.0</td>\n",
       "      <td>Female</td>\n",
       "      <td>Yes</td>\n",
       "      <td>Yes</td>\n",
       "      <td>1</td>\n",
       "      <td>Yes</td>\n",
       "      <td>Yes</td>\n",
       "    </tr>\n",
       "    <tr>\n",
       "      <th>3260</th>\n",
       "      <td>122</td>\n",
       "      <td>35.0</td>\n",
       "      <td>Male</td>\n",
       "      <td>Yes</td>\n",
       "      <td>Yes</td>\n",
       "      <td>1</td>\n",
       "      <td>I don't know</td>\n",
       "      <td>Possibly</td>\n",
       "    </tr>\n",
       "    <tr>\n",
       "      <th>3264</th>\n",
       "      <td>126</td>\n",
       "      <td>33.0</td>\n",
       "      <td>Male</td>\n",
       "      <td>Yes</td>\n",
       "      <td>Yes</td>\n",
       "      <td>1</td>\n",
       "      <td>I don't know</td>\n",
       "      <td>Yes</td>\n",
       "    </tr>\n",
       "    <tr>\n",
       "      <th>3268</th>\n",
       "      <td>130</td>\n",
       "      <td>38.0</td>\n",
       "      <td>male</td>\n",
       "      <td>Yes</td>\n",
       "      <td>No</td>\n",
       "      <td>1</td>\n",
       "      <td>No</td>\n",
       "      <td>NaN</td>\n",
       "    </tr>\n",
       "  </tbody>\n",
       "</table>\n",
       "<p>2408 rows × 8 columns</p>\n",
       "</div>"
      ],
      "text/plain": [
       "      Unnamed: 0  What is your age? What is your gender?  \\\n",
       "0              0               39.0                 Male   \n",
       "2              2               38.0                Male    \n",
       "6              6               30.0                    M   \n",
       "17            17               34.0                 Male   \n",
       "20            20               26.0                 Male   \n",
       "...          ...                ...                  ...   \n",
       "3254         116               45.0                 Male   \n",
       "3255         117               30.0               Female   \n",
       "3260         122               35.0                 Male   \n",
       "3264         126               33.0                 Male   \n",
       "3268         130               38.0                 male   \n",
       "\n",
       "     Do you *currently* have a mental health disorder?  \\\n",
       "0                                                   No   \n",
       "2                                                   No   \n",
       "6                                                   No   \n",
       "17                                                  No   \n",
       "20                                                  No   \n",
       "...                                                ...   \n",
       "3254                                               Yes   \n",
       "3255                                               Yes   \n",
       "3260                                               Yes   \n",
       "3264                                               Yes   \n",
       "3268                                               Yes   \n",
       "\n",
       "     Have you ever been *diagnosed* with a mental health disorder?  \\\n",
       "0                                                   Yes              \n",
       "2                                                    No              \n",
       "6                                                    No              \n",
       "17                                                   No              \n",
       "20                                                   No              \n",
       "...                                                 ...              \n",
       "3254                                                Yes              \n",
       "3255                                                Yes              \n",
       "3260                                                Yes              \n",
       "3264                                                Yes              \n",
       "3268                                                 No              \n",
       "\n",
       "      Have you ever sought treatment for a mental health disorder from a mental health professional?  \\\n",
       "0                                                     0                                                \n",
       "2                                                     1                                                \n",
       "6                                                     0                                                \n",
       "17                                                    0                                                \n",
       "20                                                    0                                                \n",
       "...                                                 ...                                                \n",
       "3254                                                  0                                                \n",
       "3255                                                  1                                                \n",
       "3260                                                  1                                                \n",
       "3264                                                  1                                                \n",
       "3268                                                  1                                                \n",
       "\n",
       "     Do you have a family history of mental illness?  \\\n",
       "0                                                 No   \n",
       "2                                                 No   \n",
       "6                                                 No   \n",
       "17                                                No   \n",
       "20                                               Yes   \n",
       "...                                              ...   \n",
       "3254                                             Yes   \n",
       "3255                                             Yes   \n",
       "3260                                    I don't know   \n",
       "3264                                    I don't know   \n",
       "3268                                              No   \n",
       "\n",
       "     Have you had a mental health disorder in the past?  \n",
       "0                                                   Yes  \n",
       "2                                                 Maybe  \n",
       "6                                                    No  \n",
       "17                                                   No  \n",
       "20                                                Maybe  \n",
       "...                                                 ...  \n",
       "3254                                                Yes  \n",
       "3255                                                Yes  \n",
       "3260                                           Possibly  \n",
       "3264                                                Yes  \n",
       "3268                                                NaN  \n",
       "\n",
       "[2408 rows x 8 columns]"
      ]
     },
     "execution_count": 18,
     "metadata": {},
     "output_type": "execute_result"
    }
   ],
   "source": [
    "df_yes_no_answers"
   ]
  },
  {
   "cell_type": "code",
   "execution_count": 20,
   "metadata": {},
   "outputs": [
    {
     "data": {
      "text/plain": [
       "Yes    1331\n",
       "No     1077\n",
       "Name: Do you *currently* have a mental health disorder?, dtype: int64"
      ]
     },
     "execution_count": 20,
     "metadata": {},
     "output_type": "execute_result"
    }
   ],
   "source": [
    "df_yes_no_answers['Do you *currently* have a mental health disorder?'].value_counts()"
   ]
  },
  {
   "cell_type": "code",
   "execution_count": 23,
   "metadata": {},
   "outputs": [
    {
     "name": "stderr",
     "output_type": "stream",
     "text": [
      "<ipython-input-23-643cd448237a>:1: FutureWarning: In a future version of pandas all arguments of DataFrame.drop except for the argument 'labels' will be keyword-only.\n",
      "  df_yes_no_answers = df_yes_no_answers.drop('Unnamed: 0', 1)\n"
     ]
    }
   ],
   "source": [
    "df_yes_no_answers = df_yes_no_answers.drop('Unnamed: 0', 1)"
   ]
  },
  {
   "cell_type": "code",
   "execution_count": 25,
   "metadata": {},
   "outputs": [
    {
     "data": {
      "text/html": [
       "<div>\n",
       "<style scoped>\n",
       "    .dataframe tbody tr th:only-of-type {\n",
       "        vertical-align: middle;\n",
       "    }\n",
       "\n",
       "    .dataframe tbody tr th {\n",
       "        vertical-align: top;\n",
       "    }\n",
       "\n",
       "    .dataframe thead th {\n",
       "        text-align: right;\n",
       "    }\n",
       "</style>\n",
       "<table border=\"1\" class=\"dataframe\">\n",
       "  <thead>\n",
       "    <tr style=\"text-align: right;\">\n",
       "      <th></th>\n",
       "      <th>What is your age?</th>\n",
       "      <th>What is your gender?</th>\n",
       "      <th>Do you *currently* have a mental health disorder?</th>\n",
       "      <th>Have you ever been *diagnosed* with a mental health disorder?</th>\n",
       "      <th>Have you ever sought treatment for a mental health disorder from a mental health professional?</th>\n",
       "      <th>Do you have a family history of mental illness?</th>\n",
       "      <th>Have you had a mental health disorder in the past?</th>\n",
       "    </tr>\n",
       "  </thead>\n",
       "  <tbody>\n",
       "    <tr>\n",
       "      <th>0</th>\n",
       "      <td>39.0</td>\n",
       "      <td>Male</td>\n",
       "      <td>No</td>\n",
       "      <td>Yes</td>\n",
       "      <td>0</td>\n",
       "      <td>No</td>\n",
       "      <td>Yes</td>\n",
       "    </tr>\n",
       "    <tr>\n",
       "      <th>2</th>\n",
       "      <td>38.0</td>\n",
       "      <td>Male</td>\n",
       "      <td>No</td>\n",
       "      <td>No</td>\n",
       "      <td>1</td>\n",
       "      <td>No</td>\n",
       "      <td>Maybe</td>\n",
       "    </tr>\n",
       "    <tr>\n",
       "      <th>6</th>\n",
       "      <td>30.0</td>\n",
       "      <td>M</td>\n",
       "      <td>No</td>\n",
       "      <td>No</td>\n",
       "      <td>0</td>\n",
       "      <td>No</td>\n",
       "      <td>No</td>\n",
       "    </tr>\n",
       "    <tr>\n",
       "      <th>17</th>\n",
       "      <td>34.0</td>\n",
       "      <td>Male</td>\n",
       "      <td>No</td>\n",
       "      <td>No</td>\n",
       "      <td>0</td>\n",
       "      <td>No</td>\n",
       "      <td>No</td>\n",
       "    </tr>\n",
       "    <tr>\n",
       "      <th>20</th>\n",
       "      <td>26.0</td>\n",
       "      <td>Male</td>\n",
       "      <td>No</td>\n",
       "      <td>No</td>\n",
       "      <td>0</td>\n",
       "      <td>Yes</td>\n",
       "      <td>Maybe</td>\n",
       "    </tr>\n",
       "  </tbody>\n",
       "</table>\n",
       "</div>"
      ],
      "text/plain": [
       "    What is your age? What is your gender?  \\\n",
       "0                39.0                 Male   \n",
       "2                38.0                Male    \n",
       "6                30.0                    M   \n",
       "17               34.0                 Male   \n",
       "20               26.0                 Male   \n",
       "\n",
       "   Do you *currently* have a mental health disorder?  \\\n",
       "0                                                 No   \n",
       "2                                                 No   \n",
       "6                                                 No   \n",
       "17                                                No   \n",
       "20                                                No   \n",
       "\n",
       "   Have you ever been *diagnosed* with a mental health disorder?  \\\n",
       "0                                                 Yes              \n",
       "2                                                  No              \n",
       "6                                                  No              \n",
       "17                                                 No              \n",
       "20                                                 No              \n",
       "\n",
       "    Have you ever sought treatment for a mental health disorder from a mental health professional?  \\\n",
       "0                                                   0                                                \n",
       "2                                                   1                                                \n",
       "6                                                   0                                                \n",
       "17                                                  0                                                \n",
       "20                                                  0                                                \n",
       "\n",
       "   Do you have a family history of mental illness?  \\\n",
       "0                                               No   \n",
       "2                                               No   \n",
       "6                                               No   \n",
       "17                                              No   \n",
       "20                                             Yes   \n",
       "\n",
       "   Have you had a mental health disorder in the past?  \n",
       "0                                                 Yes  \n",
       "2                                               Maybe  \n",
       "6                                                  No  \n",
       "17                                                 No  \n",
       "20                                              Maybe  "
      ]
     },
     "execution_count": 25,
     "metadata": {},
     "output_type": "execute_result"
    }
   ],
   "source": [
    "df_yes_no_answers.head()"
   ]
  },
  {
   "cell_type": "code",
   "execution_count": 28,
   "metadata": {},
   "outputs": [],
   "source": [
    "# save dataset into csv\n",
    "df_yes_no_answers.to_csv(\"mental_health_data_2016-2021_cleaned_yes_no.csv\")"
   ]
  },
  {
   "cell_type": "code",
   "execution_count": null,
   "metadata": {},
   "outputs": [],
   "source": []
  }
 ],
 "metadata": {
  "kernelspec": {
   "display_name": "Python 3",
   "language": "python",
   "name": "python3"
  },
  "language_info": {
   "codemirror_mode": {
    "name": "ipython",
    "version": 3
   },
   "file_extension": ".py",
   "mimetype": "text/x-python",
   "name": "python",
   "nbconvert_exporter": "python",
   "pygments_lexer": "ipython3",
   "version": "3.8.5"
  }
 },
 "nbformat": 4,
 "nbformat_minor": 4
}
